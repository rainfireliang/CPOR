{
  "nbformat": 4,
  "nbformat_minor": 0,
  "metadata": {
    "colab": {
      "name": "舆论表达主体与意见领袖挖掘-Py代码.ipynb",
      "provenance": []
    },
    "kernelspec": {
      "name": "python3",
      "display_name": "Python 3"
    },
    "language_info": {
      "name": "python"
    }
  },
  "cells": [
    {
      "cell_type": "code",
      "metadata": {
        "id": "C-xqxusNLi0t"
      },
      "source": [
        "!pip install community\n",
        "!pip install tsm\n",
        "!pip install networkx"
      ],
      "execution_count": null,
      "outputs": []
    },
    {
      "cell_type": "code",
      "metadata": {
        "colab": {
          "base_uri": "https://localhost:8080/"
        },
        "id": "1MH-gD51PfJz",
        "outputId": "ad27f738-38ee-4c4f-8ef2-32c55bacd6d9"
      },
      "source": [
        "!wget \"https://curiositybits.cc/files/allaccount_tsm.csv\" #在Linux环境下用wget下载原始csv数据"
      ],
      "execution_count": 21,
      "outputs": [
        {
          "output_type": "stream",
          "text": [
            "--2021-04-13 18:52:54--  https://curiositybits.cc/files/allaccount_tsm.csv\n",
            "Resolving curiositybits.cc (curiositybits.cc)... 167.172.139.120, 52.73.87.228\n",
            "Connecting to curiositybits.cc (curiositybits.cc)|167.172.139.120|:443... connected.\n",
            "HTTP request sent, awaiting response... 200 OK\n",
            "Length: 6728226 (6.4M) [text/csv]\n",
            "Saving to: ‘allaccount_tsm.csv.1’\n",
            "\n",
            "allaccount_tsm.csv. 100%[===================>]   6.42M  2.18MB/s    in 2.9s    \n",
            "\n",
            "2021-04-13 18:52:57 (2.18 MB/s) - ‘allaccount_tsm.csv.1’ saved [6728226/6728226]\n",
            "\n"
          ],
          "name": "stdout"
        }
      ]
    },
    {
      "cell_type": "code",
      "metadata": {
        "id": "F7v1vtsCLTfa"
      },
      "source": [
        "import community\n",
        "import networkx as nx\n",
        "import tsm\n",
        "import pandas as pd\n",
        "import community as community_louvain\n",
        "import matplotlib.cm as cm\n",
        "import matplotlib.pyplot as plt"
      ],
      "execution_count": 29,
      "outputs": []
    },
    {
      "cell_type": "markdown",
      "metadata": {
        "id": "lY0SxojtL7LL"
      },
      "source": [
        "定义SNA函数"
      ]
    },
    {
      "cell_type": "code",
      "metadata": {
        "id": "B151n6kwL5fn"
      },
      "source": [
        "def to_tsm(df):   #to_tsm函数用于清理原始数据并生成包括三栏（from_user_screen_name, content, created_date）的csv表格\n",
        "    df = df.loc[df['from_user_screen_name'].isnull()==False]\n",
        "    df = df.loc[df['content'].isnull()==False]\n",
        "    df_fortsm = df[['from_user_screen_name','content','created_date']]\n",
        "    df_fortsm = df_fortsm.dropna()\n",
        "    return df_fortsm\n",
        "\n",
        "def get_edgelist_fromtsm(csv_filename): #get_edgelist_fromtsm函数用于提炼推特文本中的三层网络关系：retweet, mention, reply， 并生成edgelist\n",
        "    all_el = tsm.t2e(csv_filename,'ALL', save_prefix=str('all'+csv_filename))\n",
        "    rt_el = tsm.t2e(csv_filename,'RTS_ONLY',save_prefix=str('rt'+csv_filename))\n",
        "    mt_el = tsm.t2e(csv_filename,'AT_MENTIONS_ONLY',save_prefix=str('mt'+csv_filename))\n",
        "    reply_el = tsm.t2e(csv_filename,'REPLIES_ONLY',save_prefix=str('reply'+csv_filename))\n",
        "    return len(all_el),len(rt_el),len(mt_el),len(reply_el)\n",
        "\n",
        "def create_networkx(edgelist_file): #create_networkx函数用于讲edgelist转换成networkx对象和GraphML文件\n",
        "    EDGELIST_matrix = pd.read_csv(edgelist_file, header = 0)\n",
        "    EG = nx.DiGraph()\n",
        "    for index, tweet in EDGELIST_matrix.iterrows():\n",
        "        EG.add_edge(tweet[0],tweet[1])\n",
        "    print (nx.number_of_edges(EG))\n",
        "    print (nx.number_of_nodes(EG))\n",
        "    #EG_igraph = nx.to_pandas_dataframe(EG)\n",
        "    nx.write_graphml(EG, str(edgelist_file+\"graph.graphml\"))\n",
        "    print (str(edgelist_file+\"graph.graphml\"))\n",
        "    return EG\n",
        "\n",
        "def get_network_metrics(gramphml_filename): #get_network_metrics函数用于计算各类SNA指标\n",
        "    graph = Graph.Read_GraphML(gramphml_filename)\n",
        "    graph_list = list(graph.vs['id'])\n",
        "    graph_descriptive = pd.DataFrame(graph_list)\n",
        "    graph_descriptive.columns = ['node']\n",
        "    graph_descriptive['indegree'] = graph.vs.degree(type=\"in\")\n",
        "    graph_descriptive['outdegree'] = graph.vs.degree(type=\"out\")\n",
        "    graph_descriptive['rawbt'] = graph.betweenness(directed=True)  #could not find normaized bt score in igraph\n",
        "    graph_descriptive['closeness'] = graph.closeness(normalized=True)\n",
        "    graph_descriptive['evcent'] = graph.evcent()\n",
        "    graph_descriptive['hub'] = graph.hub_score()\n",
        "    graph_descriptive['authority'] = graph.authority_score()\n",
        "    graph_descriptive['coreness'] = graph.coreness()\n",
        "    graph_descriptive.to_csv(str(\"Network_Metrics\"+gramphml_filename +'.csv'),sep=',', index = False, header = True)\n",
        "    return graph_descriptive"
      ],
      "execution_count": 23,
      "outputs": []
    },
    {
      "cell_type": "markdown",
      "metadata": {
        "id": "Q5uLt9ztQhkY"
      },
      "source": [
        "将get_edgelist_fromtsm函数应用于原始csv数据。成功操作后会生成三个csv文件：allallaccount_tsm.csv_edgelist.csv, rtallaccount_tsm.csv_edgelist.csv, mtallaccount_tsm.csv_edgelist.csv,replyallaccount_tsm.csv_edgelist.csv"
      ]
    },
    {
      "cell_type": "code",
      "metadata": {
        "colab": {
          "base_uri": "https://localhost:8080/"
        },
        "id": "O46z_EW4NW8O",
        "outputId": "06ee86fd-67b7-4001-b5fb-b28a338c5093"
      },
      "source": [
        "get_edgelist_fromtsm(\"allaccount_tsm.csv\") "
      ],
      "execution_count": 14,
      "outputs": [
        {
          "output_type": "stream",
          "text": [
            "Edge list created.\n",
            "Data saved to file \"allallaccount_tsm.csv_edgelist.csv\".\n",
            "Edge list created.\n",
            "Data saved to file \"rtallaccount_tsm.csv_edgelist.csv\".\n",
            "Edge list created.\n",
            "Data saved to file \"mtallaccount_tsm.csv_edgelist.csv\".\n",
            "Edge list created.\n",
            "Data saved to file \"replyallaccount_tsm.csv_edgelist.csv\".\n"
          ],
          "name": "stdout"
        },
        {
          "output_type": "execute_result",
          "data": {
            "text/plain": [
              "(54510, 18066, 20283, 19630)"
            ]
          },
          "metadata": {
            "tags": []
          },
          "execution_count": 14
        }
      ]
    },
    {
      "cell_type": "markdown",
      "metadata": {
        "id": "j0e01HmEmRl3"
      },
      "source": [
        "将create_networkx应用于基于转发关系的edgelist (即rtallaccount_tsm.csv_edgelist.csv)，该函数可生成一个GraphML文件并属于一个networkx对象（根据下文代码定义，该networkx对象命名为rt）。"
      ]
    },
    {
      "cell_type": "code",
      "metadata": {
        "colab": {
          "base_uri": "https://localhost:8080/"
        },
        "id": "3kOVubzhNWEm",
        "outputId": "f41fb0df-4f2d-433b-d5e0-6555e14bc9af"
      },
      "source": [
        "rt = create_networkx(\"rtallaccount_tsm.csv_edgelist.csv\")"
      ],
      "execution_count": 35,
      "outputs": [
        {
          "output_type": "stream",
          "text": [
            "5602\n",
            "4271\n",
            "rtallaccount_tsm.csv_edgelist.csvgraph.graphml\n"
          ],
          "name": "stdout"
        }
      ]
    },
    {
      "cell_type": "markdown",
      "metadata": {
        "id": "LH7mzupZs2-W"
      },
      "source": [
        "使用networkx库计算四类网络节点指标：入度(indegree)， 出度(outdegree), 中介中心度，接近中心度，特征向量中心度，和HITS算法的权威度（Authority）和枢纽度（Hub）"
      ]
    },
    {
      "cell_type": "code",
      "metadata": {
        "colab": {
          "base_uri": "https://localhost:8080/",
          "height": 419
        },
        "id": "38t9YZsIsZax",
        "outputId": "b229672c-301a-4f9f-baa6-882cdea17b4a"
      },
      "source": [
        "get_network_metrics(\"rtallaccount_tsm.csv_edgelist.csvgraph.graphml\")"
      ],
      "execution_count": 37,
      "outputs": [
        {
          "output_type": "execute_result",
          "data": {
            "text/html": [
              "<div>\n",
              "<style scoped>\n",
              "    .dataframe tbody tr th:only-of-type {\n",
              "        vertical-align: middle;\n",
              "    }\n",
              "\n",
              "    .dataframe tbody tr th {\n",
              "        vertical-align: top;\n",
              "    }\n",
              "\n",
              "    .dataframe thead th {\n",
              "        text-align: right;\n",
              "    }\n",
              "</style>\n",
              "<table border=\"1\" class=\"dataframe\">\n",
              "  <thead>\n",
              "    <tr style=\"text-align: right;\">\n",
              "      <th></th>\n",
              "      <th>node</th>\n",
              "      <th>indegree</th>\n",
              "      <th>outdegree</th>\n",
              "      <th>rawbt</th>\n",
              "      <th>closeness</th>\n",
              "      <th>evcent</th>\n",
              "      <th>hub</th>\n",
              "      <th>authority</th>\n",
              "      <th>coreness</th>\n",
              "    </tr>\n",
              "  </thead>\n",
              "  <tbody>\n",
              "    <tr>\n",
              "      <th>0</th>\n",
              "      <td>altright___</td>\n",
              "      <td>2</td>\n",
              "      <td>52</td>\n",
              "      <td>115.25</td>\n",
              "      <td>0.404970</td>\n",
              "      <td>0.211396</td>\n",
              "      <td>0.031844</td>\n",
              "      <td>0.659780</td>\n",
              "      <td>9</td>\n",
              "    </tr>\n",
              "    <tr>\n",
              "      <th>1</th>\n",
              "      <td>anthonycumiaxyz</td>\n",
              "      <td>1</td>\n",
              "      <td>0</td>\n",
              "      <td>0.00</td>\n",
              "      <td>0.288260</td>\n",
              "      <td>0.088640</td>\n",
              "      <td>0.000000</td>\n",
              "      <td>0.016416</td>\n",
              "      <td>1</td>\n",
              "    </tr>\n",
              "    <tr>\n",
              "      <th>2</th>\n",
              "      <td>amrenaissance</td>\n",
              "      <td>9</td>\n",
              "      <td>0</td>\n",
              "      <td>0.00</td>\n",
              "      <td>0.377742</td>\n",
              "      <td>0.452681</td>\n",
              "      <td>0.000000</td>\n",
              "      <td>0.890983</td>\n",
              "      <td>9</td>\n",
              "    </tr>\n",
              "    <tr>\n",
              "      <th>3</th>\n",
              "      <td>rooshv</td>\n",
              "      <td>3</td>\n",
              "      <td>0</td>\n",
              "      <td>0.00</td>\n",
              "      <td>0.359943</td>\n",
              "      <td>0.300036</td>\n",
              "      <td>0.000000</td>\n",
              "      <td>0.676196</td>\n",
              "      <td>3</td>\n",
              "    </tr>\n",
              "    <tr>\n",
              "      <th>4</th>\n",
              "      <td>steve_sailer</td>\n",
              "      <td>6</td>\n",
              "      <td>0</td>\n",
              "      <td>0.00</td>\n",
              "      <td>0.373742</td>\n",
              "      <td>0.562904</td>\n",
              "      <td>0.000000</td>\n",
              "      <td>0.813218</td>\n",
              "      <td>6</td>\n",
              "    </tr>\n",
              "    <tr>\n",
              "      <th>...</th>\n",
              "      <td>...</td>\n",
              "      <td>...</td>\n",
              "      <td>...</td>\n",
              "      <td>...</td>\n",
              "      <td>...</td>\n",
              "      <td>...</td>\n",
              "      <td>...</td>\n",
              "      <td>...</td>\n",
              "      <td>...</td>\n",
              "    </tr>\n",
              "    <tr>\n",
              "      <th>4266</th>\n",
              "      <td>katrinapierson</td>\n",
              "      <td>1</td>\n",
              "      <td>0</td>\n",
              "      <td>0.00</td>\n",
              "      <td>0.306863</td>\n",
              "      <td>0.262868</td>\n",
              "      <td>0.000000</td>\n",
              "      <td>0.061200</td>\n",
              "      <td>1</td>\n",
              "    </tr>\n",
              "    <tr>\n",
              "      <th>4267</th>\n",
              "      <td>yspearl</td>\n",
              "      <td>1</td>\n",
              "      <td>0</td>\n",
              "      <td>0.00</td>\n",
              "      <td>0.306863</td>\n",
              "      <td>0.262868</td>\n",
              "      <td>0.000000</td>\n",
              "      <td>0.061200</td>\n",
              "      <td>1</td>\n",
              "    </tr>\n",
              "    <tr>\n",
              "      <th>4268</th>\n",
              "      <td>usaassociation</td>\n",
              "      <td>1</td>\n",
              "      <td>0</td>\n",
              "      <td>0.00</td>\n",
              "      <td>0.306863</td>\n",
              "      <td>0.262868</td>\n",
              "      <td>0.000000</td>\n",
              "      <td>0.061200</td>\n",
              "      <td>1</td>\n",
              "    </tr>\n",
              "    <tr>\n",
              "      <th>4269</th>\n",
              "      <td>geraldorivera</td>\n",
              "      <td>1</td>\n",
              "      <td>0</td>\n",
              "      <td>0.00</td>\n",
              "      <td>0.306863</td>\n",
              "      <td>0.262868</td>\n",
              "      <td>0.000000</td>\n",
              "      <td>0.061200</td>\n",
              "      <td>1</td>\n",
              "    </tr>\n",
              "    <tr>\n",
              "      <th>4270</th>\n",
              "      <td>rjhaier</td>\n",
              "      <td>1</td>\n",
              "      <td>0</td>\n",
              "      <td>0.00</td>\n",
              "      <td>0.306863</td>\n",
              "      <td>0.262868</td>\n",
              "      <td>0.000000</td>\n",
              "      <td>0.061200</td>\n",
              "      <td>1</td>\n",
              "    </tr>\n",
              "  </tbody>\n",
              "</table>\n",
              "<p>4271 rows × 9 columns</p>\n",
              "</div>"
            ],
            "text/plain": [
              "                 node  indegree  outdegree  ...       hub  authority  coreness\n",
              "0         altright___         2         52  ...  0.031844   0.659780         9\n",
              "1     anthonycumiaxyz         1          0  ...  0.000000   0.016416         1\n",
              "2       amrenaissance         9          0  ...  0.000000   0.890983         9\n",
              "3              rooshv         3          0  ...  0.000000   0.676196         3\n",
              "4        steve_sailer         6          0  ...  0.000000   0.813218         6\n",
              "...               ...       ...        ...  ...       ...        ...       ...\n",
              "4266   katrinapierson         1          0  ...  0.000000   0.061200         1\n",
              "4267          yspearl         1          0  ...  0.000000   0.061200         1\n",
              "4268   usaassociation         1          0  ...  0.000000   0.061200         1\n",
              "4269    geraldorivera         1          0  ...  0.000000   0.061200         1\n",
              "4270          rjhaier         1          0  ...  0.000000   0.061200         1\n",
              "\n",
              "[4271 rows x 9 columns]"
            ]
          },
          "metadata": {
            "tags": []
          },
          "execution_count": 37
        }
      ]
    },
    {
      "cell_type": "markdown",
      "metadata": {
        "id": "HEgw8-Lim5Xq"
      },
      "source": [
        "使用社群发现算法定位聚类"
      ]
    },
    {
      "cell_type": "code",
      "metadata": {
        "colab": {
          "base_uri": "https://localhost:8080/",
          "height": 248
        },
        "id": "yNQhWfGKkVLw",
        "outputId": "7c76fbba-b08c-4852-9a1d-d184e2efce31"
      },
      "source": [
        "rt = rt.to_undirected(reciprocal=False, as_view=False) #Louvain算法仅适用于undirected graph, 因此首先将网络转化为undirected模式\n",
        "\n",
        "partition = community_louvain.best_partition(rt) #应用社群发现算法\n",
        "\n",
        "## 可视化，用不同颜色标注不同社群\n",
        "pos = nx.spring_layout(rt)\n",
        "cmap = cm.get_cmap('viridis', max(partition.values()) + 1)\n",
        "nx.draw_networkx_nodes(rt, pos, partition.keys(), node_size=40,cmap=cmap, node_color=list(partition.values()))\n",
        "nx.draw_networkx_edges(rt, pos, alpha=0.5)\n",
        "plt.show()"
      ],
      "execution_count": 36,
      "outputs": [
        {
          "output_type": "display_data",
          "data": {
            "image/png": "[encoded data removed]",
            "text/plain": [
              "<Figure size 432x288 with 1 Axes>"
            ]
          },
          "metadata": {
            "tags": []
          }
        }
      ]
    }
  ]
}